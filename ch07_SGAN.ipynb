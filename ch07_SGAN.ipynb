{
  "nbformat": 4,
  "nbformat_minor": 0,
  "metadata": {
    "colab": {
      "name": "ch07_SGAN.ipynb",
      "provenance": [],
      "authorship_tag": "ABX9TyOH6ImCn4q3bnZ6F/kYBNN/",
      "include_colab_link": true
    },
    "kernelspec": {
      "name": "python3",
      "display_name": "Python 3"
    },
    "language_info": {
      "name": "python"
    },
    "accelerator": "GPU"
  },
  "cells": [
    {
      "cell_type": "markdown",
      "metadata": {
        "id": "view-in-github",
        "colab_type": "text"
      },
      "source": [
        "<a href=\"https://colab.research.google.com/github/rpdahxn/GANsInAction/blob/main/ch07_SGAN.ipynb\" target=\"_parent\"><img src=\"https://colab.research.google.com/assets/colab-badge.svg\" alt=\"Open In Colab\"/></a>"
      ]
    },
    {
      "cell_type": "code",
      "execution_count": 7,
      "metadata": {
        "id": "I-mRTp1RLso4"
      },
      "outputs": [],
      "source": [
        "%matplotlib inline\n",
        "\n",
        "import matplotlib.pyplot as plt\n",
        "import numpy as np\n",
        "\n",
        "from tensorflow.keras import backend as K\n",
        "\n",
        "from tensorflow.keras.datasets import mnist\n",
        "from tensorflow.keras.layers import (Activation, BatchNormalization, Concatenate, Dense,\n",
        "                                     Dropout, Flatten, Input, Lambda, Reshape)\n",
        "from tensorflow.keras.layers import LeakyReLU\n",
        "from tensorflow.keras.layers import Conv2D, Conv2DTranspose\n",
        "from tensorflow.keras.models import Model, Sequential\n",
        "from tensorflow.keras.optimizers import Adam\n",
        "from tensorflow.keras.utils import to_categorical"
      ]
    },
    {
      "cell_type": "markdown",
      "source": [
        "### 7.2.4 데이터셋  \n",
        "레이블된 것 + 레이블이 없는 것"
      ],
      "metadata": {
        "id": "JGywvgAUL6Z7"
      }
    },
    {
      "cell_type": "code",
      "source": [
        "class Dataset:\n",
        "    def __init__(self, num_labeled):\n",
        "\n",
        "        # 훈련에 사용할 레이블된 샘플 개수\n",
        "        self.num_labeled = num_labeled\n",
        "\n",
        "        (self.x_train, self.y_train), (self.x_test, self.y_test) = mnist.load_data()\n",
        "\n",
        "        def preprocess_imgs(x):\n",
        "            # [0, 255] 사이 흑백 픽셀 값을 [–1, 1]로 변환\n",
        "            x = (x.astype(np.float32) - 127.5) / 127.5\n",
        "            # 너비 × 높이 × 채널로 이미지 차원을 확장\n",
        "            x = np.expand_dims(x, axis=3)\n",
        "            return x\n",
        "\n",
        "        def preprocess_labels(y):\n",
        "            return y.reshape(-1, 1)\n",
        "\n",
        "        self.x_train = preprocess_imgs(self.x_train)\n",
        "        self.y_train = preprocess_labels(self.y_train)\n",
        "\n",
        "        self.x_test = preprocess_imgs(self.x_test)\n",
        "        self.y_test = preprocess_labels(self.y_test)\n",
        "\n",
        "    def batch_labeled(self, batch_size):\n",
        "        idx = np.random.randint(0, self.num_labeled, batch_size)\n",
        "        imgs = self.x_train[idx]\n",
        "        labels = self.y_train[idx]\n",
        "        return imgs, labels\n",
        "\n",
        "    def batch_unlabeled(self, batch_size):\n",
        "        idx = np.random.randint(self.num_labeled, self.x_train.shape[0], batch_size)\n",
        "        imgs = self.x_train[idx]\n",
        "        return imgs\n",
        "\n",
        "    def training_set(self):\n",
        "        x_train = self.x_train[range(self.num_labeled)]\n",
        "        y_train = self.y_train[range(self.num_labeled)]\n",
        "        return x_train, y_train\n",
        "\n",
        "    def test_set(self):\n",
        "        return self.x_test, self.y_test"
      ],
      "metadata": {
        "id": "wz40dy3CL5dU"
      },
      "execution_count": 8,
      "outputs": []
    },
    {
      "cell_type": "code",
      "source": [
        "num_labeled = 100\n",
        "dataset = Dataset(num_labeled)"
      ],
      "metadata": {
        "colab": {
          "base_uri": "https://localhost:8080/"
        },
        "id": "2pU4bxk7O8bA",
        "outputId": "878617c6-3c01-412d-a9c9-a324b8be5cc9"
      },
      "execution_count": 9,
      "outputs": [
        {
          "output_type": "stream",
          "name": "stdout",
          "text": [
            "Downloading data from https://storage.googleapis.com/tensorflow/tf-keras-datasets/mnist.npz\n",
            "11493376/11490434 [==============================] - 0s 0us/step\n",
            "11501568/11490434 [==============================] - 0s 0us/step\n"
          ]
        }
      ]
    },
    {
      "cell_type": "code",
      "source": [
        "img_rows = 28\n",
        "img_cols = 28\n",
        "channels = 1\n",
        "\n",
        "# 입력 이미지 차원\n",
        "img_shape = (img_rows, img_cols, channels)\n",
        "\n",
        "# 생성자의 입력으로 사용할 잡음 벡터의 크기\n",
        "z_dim = 100\n",
        "\n",
        "# 데이터셋에 있는 클래스 개수\n",
        "num_classes = 10"
      ],
      "metadata": {
        "id": "dhJ1_YnMPJZi"
      },
      "execution_count": 10,
      "outputs": []
    },
    {
      "cell_type": "markdown",
      "source": [
        "### 7.2.5 생성자"
      ],
      "metadata": {
        "id": "-oKCPFCBQpOw"
      }
    },
    {
      "cell_type": "code",
      "source": [
        "def build_generator(z_dim):\n",
        "\n",
        "  model = Sequential()\n",
        "\n",
        "  # 완전 연결 층을 사용해 입력을 7x7x256 크기 텐서로 바꾼다.\n",
        "  model.add(Dense(256 * 7 * 7, input_dim = z_dim))\n",
        "  model.add(Reshape((7, 7, 256)))\n",
        "\n",
        "  # 7x7x256에서 14x14x128 텐서로 바꾸는 전치 합성곱 층\n",
        "  model.add(Conv2DTranspose(128, kernel_size = 3, strides = 2, padding = 'same'))\n",
        "\n",
        "  model.add(BatchNormalization())\n",
        "\n",
        "  model.add(LeakyReLU(alpha = 0.01))\n",
        "\n",
        "  # 14x14x128에서 14x14x64 텐서로 바꾸는 전치 합성곱 층\n",
        "  model.add(Conv2DTranspose(64, kernel_size = 3, strides = 1, padding = 'same'))\n",
        "\n",
        "  model.add(BatchNormalization())\n",
        "\n",
        "  model.add(LeakyReLU(alpha = 0.01))\n",
        "\n",
        "  # 14x14x64에서 28x28x1 텐서로 바꾸는 전치 합성곱 층\n",
        "  model.add(Conv2DTranspose(1, kernel_size = 3, strides = 2, padding = 'same'))\n",
        "\n",
        "  # tanh활성화 함수\n",
        "  model.add(Activation('tanh'))\n",
        "\n",
        "  return model"
      ],
      "metadata": {
        "id": "FBuD2aMAQoKI"
      },
      "execution_count": 11,
      "outputs": []
    },
    {
      "cell_type": "markdown",
      "source": [
        "### 7.2.6 판별자"
      ],
      "metadata": {
        "id": "_ZYl4BWrfFnI"
      }
    },
    {
      "cell_type": "code",
      "source": [
        "def build_discriminator_net(img_shape):\n",
        "\n",
        "  model = Sequential()\n",
        "\n",
        "  # 28x28x1에서 14x14x32 텐서로 바꾸는 합성곱 층\n",
        "  model.add(Conv2D(32, kernel_size = 3, strides = 2, input_shape = img_shape, padding = \"same\"))\n",
        "\n",
        "  model.add(LeakyReLU(alpha = 0.01))\n",
        "\n",
        "  # 14x14x32에서 7x7x64텐서로 바꾸는 합성곱 층\n",
        "  model.add(Conv2D(64, kernel_size = 3, strides = 2, padding = \"same\"))\n",
        "\n",
        "  model.add(LeakyReLU(alpha = 0.01))\n",
        "\n",
        "  # 7x7x64에서 3x3x128텐서로 바꾸는 합성곱 층\n",
        "  model.add(Conv2D(128, kernel_size = 3, strides = 2, padding = \"same\"))\n",
        "\n",
        "  model.add(LeakyReLU(alpha = 0.01))\n",
        "\n",
        "  model.add(Dropout(0.5))\n",
        "\n",
        "  model.add(Flatten())\n",
        "\n",
        "  # num_classes 개의 뉴런을 가진 완전 연결 층\n",
        "  model.add(Dense(num_classes))\n",
        "\n",
        "  return model "
      ],
      "metadata": {
        "id": "DHc5iHRnZPTI"
      },
      "execution_count": 12,
      "outputs": []
    },
    {
      "cell_type": "code",
      "source": [
        "def build_discriminator_supervised(discriminator_net):\n",
        "\n",
        "  model = Sequential()\n",
        "\n",
        "  model.add(discriminator_net)\n",
        "\n",
        "  # 진짜 클래스에 대한 예측 확률을 출력하는 소프트맥스 활성화 함수\n",
        "  model.add(Activation('softmax'))\n",
        "\n",
        "  return model"
      ],
      "metadata": {
        "id": "m3Ag9h6zgJki"
      },
      "execution_count": 13,
      "outputs": []
    },
    {
      "cell_type": "code",
      "source": [
        "def build_discriminator_unsupervised(discriminator_net):\n",
        "\n",
        "    model = Sequential()\n",
        "\n",
        "    model.add(discriminator_net)\n",
        "\n",
        "    def predict(x):\n",
        "        # 진짜 클래스에 대한 확률 분포를 진짜 대 가짜의 이진 확률로 변환합니다.\n",
        "        prediction = 1.0 - (1.0 /\n",
        "                            (K.sum(K.exp(x), axis=-1, keepdims=True) + 1.0))\n",
        "        return prediction\n",
        "\n",
        "    # 앞서 정의한 진짜 대 가짜 확률을 출력하는 뉴런\n",
        "    model.add(Lambda(predict))\n",
        "\n",
        "    return model"
      ],
      "metadata": {
        "id": "tUwJ6U9Hgbqg"
      },
      "execution_count": 14,
      "outputs": []
    },
    {
      "cell_type": "markdown",
      "source": [
        "### 7.2.7 GAN 모델 구성"
      ],
      "metadata": {
        "id": "7uGFNucjkzF6"
      }
    },
    {
      "cell_type": "code",
      "source": [
        "def build_gan(generator, discriminator):\n",
        "\n",
        "  model = Sequential()\n",
        "\n",
        "  # 생성자와 판별자 모델을 연결\n",
        "  model.add(generator)\n",
        "  model.add(discriminator)\n",
        "\n",
        "  return model"
      ],
      "metadata": {
        "id": "d7ZpJifdg6Ar"
      },
      "execution_count": 15,
      "outputs": []
    },
    {
      "cell_type": "markdown",
      "source": [
        "판별자"
      ],
      "metadata": {
        "id": "Jg4dbA8nlGht"
      }
    },
    {
      "cell_type": "code",
      "source": [
        "# 판별자 기반 모델 : 지도 학습 훈련과 비지도 학습 훈련에 공유된다.\n",
        "discriminator_net = build_discriminator_net(img_shape)\n",
        "\n",
        "# 지도 학습 훈련을 위해 판별자를 만들고 컴파일한다.\n",
        "discriminator_supervised = build_discriminator_supervised(discriminator_net)\n",
        "discriminator_supervised.compile(loss = \"categorical_crossentropy\",\n",
        "                                 metrics = [\"accuracy\"],\n",
        "                                 optimizer = Adam(learning_rate = 0.0003))\n",
        "\n",
        "# 비지도 학습 훈련을 위해 판별자를 만들고 컴파일\n",
        "discriminator_unsupervised = build_discriminator_unsupervised(discriminator_net)\n",
        "discriminator_unsupervised.compile(loss = \"binary_crossentropy\", optimizer = Adam())"
      ],
      "metadata": {
        "id": "QtRb-ViPlDQs"
      },
      "execution_count": 16,
      "outputs": []
    },
    {
      "cell_type": "markdown",
      "source": [
        "생성자"
      ],
      "metadata": {
        "id": "5_4S1BwLl7_L"
      }
    },
    {
      "cell_type": "code",
      "source": [
        "generator = build_generator(z_dim)\n",
        "\n",
        "# 생성자 훈련을 위해 판별자의 모델 파라미터를 동결\n",
        "discriminator_unsupervised.trainable = False\n",
        "\n",
        "# 생성자 훈련을 위해 고정된 판별자로 GAN 모델을 만들고 컴파일\n",
        "gan = build_gan(generator, discriminator_unsupervised)\n",
        "gan.compile(loss = \"binary_crossentropy\", optimizer = Adam())"
      ],
      "metadata": {
        "id": "Fl64sHzYlzCS"
      },
      "execution_count": 17,
      "outputs": []
    },
    {
      "cell_type": "markdown",
      "source": [
        "### 7.2.8 훈련"
      ],
      "metadata": {
        "id": "r4X4t4x_miAY"
      }
    },
    {
      "cell_type": "code",
      "source": [
        "supervised_losses = []\n",
        "iteration_checkpoints = []\n",
        "\n",
        "def train(iterations, batch_size, sample_interval):\n",
        "\n",
        "  # 진짜 이미지의 레이블, 모두 1\n",
        "  real = np.ones((batch_size, 1))\n",
        "\n",
        "  # 가짜 이미지 레이블\n",
        "  fake = np.zeros((batch_size, 1))\n",
        "\n",
        "  for iteration in range(iterations):\n",
        "    \n",
        "    # 판별자 훈련\n",
        "\n",
        "    imgs, labels = dataset.batch_labeled(batch_size)\n",
        "\n",
        "    # 레이블 원-핫 인코딩\n",
        "    labels = to_categorical(labels, num_classes = num_classes)\n",
        "\n",
        "    # 레이블이 없는 샘플 가져오기\n",
        "    imgs_unlabeled = dataset.batch_unlabeled(batch_size)\n",
        "\n",
        "    # 가짜 이미지의 배치 생성\n",
        "    z = np.random.normal(0, 1, (batch_size, z_dim))\n",
        "    gen_imgs = generator.predict(z)\n",
        "\n",
        "    # 레이블된 진짜 샘플에서 훈련\n",
        "    d_loss_supervised, accuracy = discriminator_supervised.train_on_batch(imgs, labels)\n",
        "\n",
        "    # 레이블이 없는 진짜 샘플에서 훈련\n",
        "    d_loss_real = discriminator_unsupervised.train_on_batch(imgs_unlabeled, real)\n",
        "\n",
        "    # 가짜 샘플에서 훈련\n",
        "    d_loss_fake = discriminator_unsupervised.train_on_batch(gen_imgs, fake)\n",
        "\n",
        "    d_loss_unsupervised = 0.5 * np.add(d_loss_real, d_loss_fake)\n",
        "\n",
        "\n",
        "    # 생성자 훈련\n",
        "\n",
        "    z = np.random.normal(0, 1, (batch_size, z_dim))\n",
        "    gen_imgs = generator.predict(z)\n",
        "\n",
        "    g_loss = gan.train_on_batch(z, np.ones((batch_size, 1)))\n",
        "\n",
        "    if (iteration + 1) % sample_interval == 0:\n",
        "\n",
        "      supervised_losses.append(d_loss_supervised)\n",
        "      iteration_checkpoints.append(iteration + 1)\n",
        "\n",
        "      print(\n",
        "                \"%d [D loss supervised: %.4f, acc.: %.2f%%] [D loss unsupervised: %.4f] [G loss: %f]\"\n",
        "                % (iteration + 1, d_loss_supervised, 100 * accuracy,\n",
        "                   d_loss_unsupervised, g_loss))"
      ],
      "metadata": {
        "id": "subtQFHEmSOh"
      },
      "execution_count": 18,
      "outputs": []
    },
    {
      "cell_type": "code",
      "source": [
        "# 하이퍼파라미터\n",
        "iterations = 8000\n",
        "batch_size = 32\n",
        "sample_interval = 800\n",
        "\n",
        "# 지정한 반복 횟수 동안 SGAN을 훈련\n",
        "train(iterations, batch_size, sample_interval)"
      ],
      "metadata": {
        "colab": {
          "base_uri": "https://localhost:8080/"
        },
        "id": "Ok_bEiRRpZav",
        "outputId": "065b7dd2-cd60-4fe3-fc51-04fcea029577"
      },
      "execution_count": 19,
      "outputs": [
        {
          "output_type": "stream",
          "name": "stdout",
          "text": [
            "800 [D loss supervised: 0.7522, acc.: 75.00%] [D loss unsupervised: 0.2699] [G loss: 2.239711]\n",
            "1600 [D loss supervised: 0.1069, acc.: 100.00%] [D loss unsupervised: 0.4206] [G loss: 1.914994]\n",
            "2400 [D loss supervised: 0.0405, acc.: 100.00%] [D loss unsupervised: 0.4431] [G loss: 2.213883]\n",
            "3200 [D loss supervised: 0.0381, acc.: 100.00%] [D loss unsupervised: 0.4567] [G loss: 1.969892]\n",
            "4000 [D loss supervised: 0.0064, acc.: 100.00%] [D loss unsupervised: 0.3894] [G loss: 1.674615]\n",
            "4800 [D loss supervised: 0.0129, acc.: 100.00%] [D loss unsupervised: 0.4780] [G loss: 1.410789]\n",
            "5600 [D loss supervised: 0.0013, acc.: 100.00%] [D loss unsupervised: 0.3765] [G loss: 1.770495]\n",
            "6400 [D loss supervised: 0.0014, acc.: 100.00%] [D loss unsupervised: 0.4617] [G loss: 1.770963]\n",
            "7200 [D loss supervised: 0.0017, acc.: 100.00%] [D loss unsupervised: 0.5064] [G loss: 1.629154]\n",
            "8000 [D loss supervised: 0.0013, acc.: 100.00%] [D loss unsupervised: 0.4818] [G loss: 2.124609]\n"
          ]
        }
      ]
    },
    {
      "cell_type": "code",
      "source": [
        "losses = np.array(supervised_losses)\n",
        "\n",
        "# 판별자의 지도 학습 손실을 그립니다.\n",
        "plt.figure(figsize=(15, 5))\n",
        "plt.plot(iteration_checkpoints, losses, label=\"Discriminator loss\")\n",
        "\n",
        "plt.xticks(iteration_checkpoints, rotation=90)\n",
        "\n",
        "plt.title(\"Discriminator – Supervised Loss\")\n",
        "plt.xlabel(\"Iteration\")\n",
        "plt.ylabel(\"Loss\")\n",
        "plt.legend()\n",
        "plt.show()"
      ],
      "metadata": {
        "colab": {
          "base_uri": "https://localhost:8080/",
          "height": 365
        },
        "id": "EktxWx_4pnk0",
        "outputId": "d4017b45-a459-47bc-99dc-913642533c6a"
      },
      "execution_count": 20,
      "outputs": [
        {
          "output_type": "display_data",
          "data": {
            "text/plain": [
              "<Figure size 1080x360 with 1 Axes>"
            ],
            "image/png": "[encoded data removed]"
          },
          "metadata": {
            "needs_background": "light"
          }
        }
      ]
    },
    {
      "cell_type": "markdown",
      "source": [
        "**모델 훈련과 테스트 정확도**"
      ],
      "metadata": {
        "id": "8NNx_vASp5jq"
      }
    },
    {
      "cell_type": "code",
      "source": [
        "x, y = dataset.training_set()\n",
        "y = to_categorical(y, num_classes=num_classes)\n",
        "\n",
        "# 훈련 세트에서 분류 정확도 계산\n",
        "_, accuracy = discriminator_supervised.evaluate(x, y)\n",
        "print(\"Training Accuracy: %.2f%%\" % (100 * accuracy))"
      ],
      "metadata": {
        "colab": {
          "base_uri": "https://localhost:8080/"
        },
        "id": "AneW-ZhWp5C7",
        "outputId": "f2b87baf-4726-46e8-d594-b004a8b6b7e4"
      },
      "execution_count": 21,
      "outputs": [
        {
          "output_type": "stream",
          "name": "stdout",
          "text": [
            "4/4 [==============================] - 0s 15ms/step - loss: 1.6770e-04 - accuracy: 1.0000\n",
            "Training Accuracy: 100.00%\n"
          ]
        }
      ]
    },
    {
      "cell_type": "code",
      "source": [
        "x, y = dataset.test_set()\n",
        "y = to_categorical(y, num_classes=num_classes)\n",
        "\n",
        "# 테스트 세트에서 분류 정확도 계산\n",
        "_, accuracy = discriminator_supervised.evaluate(x, y)\n",
        "print(\"Test Accuracy: %.2f%%\" % (100 * accuracy))"
      ],
      "metadata": {
        "colab": {
          "base_uri": "https://localhost:8080/"
        },
        "id": "MefcDhLbqB04",
        "outputId": "9257738f-61e2-46b3-cabc-2cc3445fa656"
      },
      "execution_count": 22,
      "outputs": [
        {
          "output_type": "stream",
          "name": "stdout",
          "text": [
            "313/313 [==============================] - 1s 5ms/step - loss: 0.3316 - accuracy: 0.9124\n",
            "Test Accuracy: 91.24%\n"
          ]
        }
      ]
    },
    {
      "cell_type": "markdown",
      "source": [
        "## 7.3 지도 학습 분류기와 비교하기"
      ],
      "metadata": {
        "id": "SVuC1Sf9qVet"
      }
    },
    {
      "cell_type": "code",
      "source": [
        "# SGAN 판별자와 같은 네트워크 구조를 가진 지도 학습 분류기\n",
        "mnist_classifier = build_discriminator_supervised(build_discriminator_net(img_shape))\n",
        "mnist_classifier.compile(loss='categorical_crossentropy',\n",
        "                         metrics=['accuracy'],\n",
        "                         optimizer=Adam())"
      ],
      "metadata": {
        "id": "hlyHOZrrqGot"
      },
      "execution_count": 23,
      "outputs": []
    },
    {
      "cell_type": "code",
      "source": [
        "imgs, labels = dataset.training_set()\n",
        "\n",
        "# 레이블을 원-핫 인코딩합니다.\n",
        "labels = to_categorical(labels, num_classes=num_classes)\n",
        "\n",
        "# 분류기를 훈련합니다.\n",
        "training = mnist_classifier.fit(x=imgs,\n",
        "                                y=labels,\n",
        "                                batch_size=32,\n",
        "                                epochs=30,\n",
        "                                verbose=1)\n",
        "losses = training.history['loss']\n",
        "accuracies = training.history['accuracy']"
      ],
      "metadata": {
        "colab": {
          "base_uri": "https://localhost:8080/"
        },
        "id": "kTfAQ0tTqdBs",
        "outputId": "0010bb6a-0e77-40db-a365-6f48f04cd8f8"
      },
      "execution_count": 24,
      "outputs": [
        {
          "output_type": "stream",
          "name": "stdout",
          "text": [
            "Epoch 1/30\n",
            "4/4 [==============================] - 1s 21ms/step - loss: 2.2963 - accuracy: 0.1400\n",
            "Epoch 2/30\n",
            "4/4 [==============================] - 0s 7ms/step - loss: 2.1812 - accuracy: 0.2600\n",
            "Epoch 3/30\n",
            "4/4 [==============================] - 0s 7ms/step - loss: 2.0933 - accuracy: 0.3600\n",
            "Epoch 4/30\n",
            "4/4 [==============================] - 0s 7ms/step - loss: 1.9868 - accuracy: 0.4800\n",
            "Epoch 5/30\n",
            "4/4 [==============================] - 0s 7ms/step - loss: 1.8129 - accuracy: 0.5000\n",
            "Epoch 6/30\n",
            "4/4 [==============================] - 0s 7ms/step - loss: 1.5789 - accuracy: 0.6400\n",
            "Epoch 7/30\n",
            "4/4 [==============================] - 0s 6ms/step - loss: 1.3326 - accuracy: 0.7200\n",
            "Epoch 8/30\n",
            "4/4 [==============================] - 0s 7ms/step - loss: 1.0282 - accuracy: 0.8200\n",
            "Epoch 9/30\n",
            "4/4 [==============================] - 0s 6ms/step - loss: 0.7939 - accuracy: 0.8000\n",
            "Epoch 10/30\n",
            "4/4 [==============================] - 0s 7ms/step - loss: 0.6294 - accuracy: 0.7900\n",
            "Epoch 11/30\n",
            "4/4 [==============================] - 0s 8ms/step - loss: 0.5432 - accuracy: 0.8500\n",
            "Epoch 12/30\n",
            "4/4 [==============================] - 0s 7ms/step - loss: 0.3460 - accuracy: 0.8900\n",
            "Epoch 13/30\n",
            "4/4 [==============================] - 0s 6ms/step - loss: 0.3363 - accuracy: 0.8900\n",
            "Epoch 14/30\n",
            "4/4 [==============================] - 0s 7ms/step - loss: 0.2751 - accuracy: 0.9200\n",
            "Epoch 15/30\n",
            "4/4 [==============================] - 0s 7ms/step - loss: 0.2472 - accuracy: 0.9100\n",
            "Epoch 16/30\n",
            "4/4 [==============================] - 0s 7ms/step - loss: 0.2111 - accuracy: 0.9200\n",
            "Epoch 17/30\n",
            "4/4 [==============================] - 0s 7ms/step - loss: 0.1678 - accuracy: 0.9400\n",
            "Epoch 18/30\n",
            "4/4 [==============================] - 0s 6ms/step - loss: 0.1319 - accuracy: 0.9600\n",
            "Epoch 19/30\n",
            "4/4 [==============================] - 0s 7ms/step - loss: 0.1227 - accuracy: 0.9900\n",
            "Epoch 20/30\n",
            "4/4 [==============================] - 0s 7ms/step - loss: 0.1139 - accuracy: 0.9600\n",
            "Epoch 21/30\n",
            "4/4 [==============================] - 0s 8ms/step - loss: 0.1537 - accuracy: 0.9600\n",
            "Epoch 22/30\n",
            "4/4 [==============================] - 0s 7ms/step - loss: 0.0833 - accuracy: 0.9800\n",
            "Epoch 23/30\n",
            "4/4 [==============================] - 0s 7ms/step - loss: 0.1288 - accuracy: 0.9600\n",
            "Epoch 24/30\n",
            "4/4 [==============================] - 0s 12ms/step - loss: 0.1079 - accuracy: 0.9600\n",
            "Epoch 25/30\n",
            "4/4 [==============================] - 0s 7ms/step - loss: 0.0690 - accuracy: 1.0000\n",
            "Epoch 26/30\n",
            "4/4 [==============================] - 0s 7ms/step - loss: 0.0619 - accuracy: 0.9900\n",
            "Epoch 27/30\n",
            "4/4 [==============================] - 0s 7ms/step - loss: 0.0631 - accuracy: 1.0000\n",
            "Epoch 28/30\n",
            "4/4 [==============================] - 0s 8ms/step - loss: 0.0674 - accuracy: 0.9800\n",
            "Epoch 29/30\n",
            "4/4 [==============================] - 0s 7ms/step - loss: 0.0602 - accuracy: 0.9900\n",
            "Epoch 30/30\n",
            "4/4 [==============================] - 0s 7ms/step - loss: 0.0316 - accuracy: 1.0000\n"
          ]
        }
      ]
    },
    {
      "cell_type": "code",
      "source": [
        "# 분류 손실\n",
        "plt.figure(figsize=(10, 5))\n",
        "plt.plot(np.array(losses), label=\"Loss\")\n",
        "plt.title(\"Classification Loss\")\n",
        "plt.legend()\n",
        "plt.show()"
      ],
      "metadata": {
        "colab": {
          "base_uri": "https://localhost:8080/",
          "height": 336
        },
        "id": "BC3WPUrTqel5",
        "outputId": "6c1caaf9-8b1c-4bfb-d7dd-8c0fef7f91c9"
      },
      "execution_count": 25,
      "outputs": [
        {
          "output_type": "display_data",
          "data": {
            "text/plain": [
              "<Figure size 720x360 with 1 Axes>"
            ],
            "image/png": "[encoded data removed]"
          },
          "metadata": {
            "needs_background": "light"
          }
        }
      ]
    },
    {
      "cell_type": "code",
      "source": [
        "# 분류 정확도\n",
        "plt.figure(figsize=(10, 5))\n",
        "plt.plot(np.array(accuracies), label=\"Accuracy\")\n",
        "plt.title(\"Classification Accuracy\")\n",
        "plt.legend()\n",
        "plt.show()"
      ],
      "metadata": {
        "colab": {
          "base_uri": "https://localhost:8080/",
          "height": 336
        },
        "id": "mII9Z5R0qiJv",
        "outputId": "8cc799b4-0ebf-411d-9ff7-4ea595cc453f"
      },
      "execution_count": 26,
      "outputs": [
        {
          "output_type": "display_data",
          "data": {
            "text/plain": [
              "<Figure size 720x360 with 1 Axes>"
            ],
            "image/png": "[encoded data removed]"
          },
          "metadata": {
            "needs_background": "light"
          }
        }
      ]
    },
    {
      "cell_type": "code",
      "source": [
        "x, y = dataset.training_set()\n",
        "y = to_categorical(y, num_classes=num_classes)\n",
        "\n",
        "# 훈련 세트에 대한 분류 정확도를 계산합니다.\n",
        "_, accuracy = mnist_classifier.evaluate(x, y)\n",
        "print(\"Training Accuracy: %.2f%%\" % (100 * accuracy))"
      ],
      "metadata": {
        "colab": {
          "base_uri": "https://localhost:8080/"
        },
        "id": "F6oCJ5EoqksJ",
        "outputId": "967f7a4f-be45-47a8-cf3a-f06d61f97847"
      },
      "execution_count": 27,
      "outputs": [
        {
          "output_type": "stream",
          "name": "stdout",
          "text": [
            "4/4 [==============================] - 0s 5ms/step - loss: 0.0121 - accuracy: 1.0000\n",
            "Training Accuracy: 100.00%\n"
          ]
        }
      ]
    },
    {
      "cell_type": "code",
      "source": [
        "x, y = dataset.test_set()\n",
        "y = to_categorical(y, num_classes=num_classes)\n",
        "\n",
        "# 테스트 세트에 대한 분류 정확도를 계산합니다.\n",
        "_, accuracy = mnist_classifier.evaluate(x, y)\n",
        "print(\"Test Accuracy: %.2f%%\" % (100 * accuracy))"
      ],
      "metadata": {
        "colab": {
          "base_uri": "https://localhost:8080/"
        },
        "id": "WBHAU74YqmQg",
        "outputId": "93965410-800a-427c-b670-5722b2f3aa42"
      },
      "execution_count": 28,
      "outputs": [
        {
          "output_type": "stream",
          "name": "stdout",
          "text": [
            "313/313 [==============================] - 1s 4ms/step - loss: 1.2415 - accuracy: 0.7019\n",
            "Test Accuracy: 70.19%\n"
          ]
        }
      ]
    }
  ]
}